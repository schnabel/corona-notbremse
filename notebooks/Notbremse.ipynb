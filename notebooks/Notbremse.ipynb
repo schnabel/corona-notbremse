{
 "cells": [
  {
   "cell_type": "code",
   "execution_count": 1,
   "id": "89cb1805-f699-4955-8acb-4dc96fffb087",
   "metadata": {},
   "outputs": [],
   "source": [
    "import pandas as pd\n",
    "import altair as alt"
   ]
  },
  {
   "cell_type": "code",
   "execution_count": 2,
   "id": "aeca8142-9021-4356-8116-ad15bda98503",
   "metadata": {},
   "outputs": [],
   "source": [
    "cols = [\"IdLandkreis\", \"Meldedatum\", \"AnzahlFall\", \"NeuerFall\"]\n",
    "covid = pd.read_csv('https://npgeo-corona-npgeo-de.hub.arcgis.com/datasets/dd4580c810204019a7b8eb3e0b329dd6_0.csv', usecols=cols, parse_dates=['Meldedatum'])\n",
    "einwohner = pd.read_csv('../Einwohnerzahlen.csv')"
   ]
  },
  {
   "cell_type": "code",
   "execution_count": null,
   "id": "5825575c-bf7d-4bfc-a2a7-73191cb3ca67",
   "metadata": {},
   "outputs": [],
   "source": [
    "covid.Meldedatum = pd.DatetimeIndex(covid.Meldedatum.dt.date)\n",
    "covid.tail()"
   ]
  },
  {
   "cell_type": "code",
   "execution_count": 5,
   "id": "793f4e7a-c941-45db-83ad-3ad5fc2c367e",
   "metadata": {},
   "outputs": [
    {
     "name": "stdout",
     "output_type": "stream",
     "text": [
      "<class 'pandas.core.frame.DataFrame'>\n",
      "RangeIndex: 1799157 entries, 0 to 1799156\n",
      "Data columns (total 4 columns):\n",
      " #   Column       Dtype              \n",
      "---  ------       -----              \n",
      " 0   AnzahlFall   int64              \n",
      " 1   Meldedatum   datetime64[ns, UTC]\n",
      " 2   IdLandkreis  int64              \n",
      " 3   NeuerFall    int64              \n",
      "dtypes: datetime64[ns, UTC](1), int64(3)\n",
      "memory usage: 54.9 MB\n"
     ]
    }
   ],
   "source": [
    "covid.info(memory_usage=\"deep\")"
   ]
  },
  {
   "cell_type": "code",
   "execution_count": null,
   "id": "af133870-cc85-48fe-a71e-0a2cb618aba9",
   "metadata": {},
   "outputs": [],
   "source": [
    "key_data = covid[covid.NeuerFall != -1].groupby(['IdLandkreis', 'Meldedatum']).sum()\n",
    "key_data"
   ]
  },
  {
   "cell_type": "code",
   "execution_count": null,
   "id": "23bc1e80-0ce3-425c-a4de-c7bffaa50a7d",
   "metadata": {},
   "outputs": [],
   "source": [
    "idx = pd.DatetimeIndex(pd.date_range(start=covid.Meldedatum.min(), end=covid.Meldedatum.max(), freq='1D'))\n",
    "multi_idx = pd.MultiIndex.from_product([key_data.index.levels[0], idx], names=[\"IdLandkreis\", \"Meldedatum\"])\n",
    "\n",
    "key_data = key_data.reindex(multi_idx, fill_value=0)\n",
    "key_data"
   ]
  },
  {
   "cell_type": "code",
   "execution_count": null,
   "id": "1ae52e96-ad47-4549-998a-661f5aa01c8a",
   "metadata": {},
   "outputs": [],
   "source": [
    "cases_7d = []\n",
    "for group, data in key_data.groupby(level=0):\n",
    "    cases_7d.extend(data.reset_index().set_index('Meldedatum').rolling(window=\"7D\").sum()['AnzahlFall'].to_list())\n",
    "key_data['AnzahlFall7T'] = cases_7d"
   ]
  },
  {
   "cell_type": "code",
   "execution_count": null,
   "id": "68f2bd1d-8b37-4421-9d58-c2717e0bdaf7",
   "metadata": {},
   "outputs": [],
   "source": [
    "key_data.reset_index(inplace=True)"
   ]
  },
  {
   "cell_type": "code",
   "execution_count": null,
   "id": "9b360e1f-8f7d-4273-b1d8-2f670e1f6741",
   "metadata": {},
   "outputs": [],
   "source": [
    "key_data = key_data.merge(einwohner, left_on=\"IdLandkreis\", right_on=\"AdmUnitId\")\n",
    "key_data['Inz7T'] = key_data.AnzahlFall7T / key_data.EWZ * 100000"
   ]
  },
  {
   "cell_type": "code",
   "execution_count": null,
   "id": "6b14e810-e3e7-4d10-adbb-47ee59a08835",
   "metadata": {},
   "outputs": [],
   "source": [
    "alt.Chart(key_data[key_data.reset_index().IdLandkreis.isin([12063, 12064, 3251])]).mark_line().encode(\n",
    "    x='Meldedatum',\n",
    "    y=alt.Y('Inz7T'),\n",
    "    color=\"IdLandkreis:N\",\n",
    ").interactive(True).properties(width=800)"
   ]
  }
 ],
 "metadata": {
  "kernelspec": {
   "display_name": "Python 3",
   "language": "python",
   "name": "python3"
  },
  "language_info": {
   "codemirror_mode": {
    "name": "ipython",
    "version": 3
   },
   "file_extension": ".py",
   "mimetype": "text/x-python",
   "name": "python",
   "nbconvert_exporter": "python",
   "pygments_lexer": "ipython3",
   "version": "3.8.6"
  }
 },
 "nbformat": 4,
 "nbformat_minor": 5
}
