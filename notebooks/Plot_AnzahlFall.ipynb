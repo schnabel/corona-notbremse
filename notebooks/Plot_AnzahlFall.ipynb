{
 "cells": [
  {
   "cell_type": "code",
   "execution_count": null,
   "id": "6253e9bd",
   "metadata": {},
   "outputs": [],
   "source": [
    "import pandas as pd\n",
    "import altair as alt"
   ]
  },
  {
   "cell_type": "code",
   "execution_count": null,
   "id": "4e1ffa98",
   "metadata": {},
   "outputs": [],
   "source": [
    "covid = pd.read_csv('https://npgeo-corona-npgeo-de.hub.arcgis.com/datasets/dd4580c810204019a7b8eb3e0b329dd6_0.csv', parse_dates=['Meldedatum'])\n",
    "einwohner = pd.read_csv('../Einwohnerzahlen.csv')"
   ]
  },
  {
   "cell_type": "code",
   "execution_count": null,
   "id": "8bd2d5a7",
   "metadata": {},
   "outputs": [],
   "source": [
    "covid.head()"
   ]
  },
  {
   "cell_type": "code",
   "execution_count": null,
   "id": "b6f5df1a",
   "metadata": {},
   "outputs": [],
   "source": [
    "aktuell_mask = covid.NeuerTodesfall.isin([0,1])\n",
    "\n",
    "covid[aktuell_mask].AnzahlTodesfall.sum()"
   ]
  },
  {
   "cell_type": "code",
   "execution_count": null,
   "id": "eec7faac",
   "metadata": {},
   "outputs": [],
   "source": [
    "aktuell_mask = covid.NeuerTodesfall.isin([-1,1])\n",
    "\n",
    "covid[aktuell_mask].head()"
   ]
  },
  {
   "cell_type": "code",
   "execution_count": null,
   "id": "bb26fd1d",
   "metadata": {},
   "outputs": [],
   "source": [
    "by_age = covid.set_index('Meldedatum').groupby('Altersgruppe')[['AnzahlFall', 'AnzahlTodesfall']].resample('D').sum()"
   ]
  },
  {
   "cell_type": "code",
   "execution_count": null,
   "id": "17a52e0e",
   "metadata": {},
   "outputs": [],
   "source": [
    "by_age.reset_index().head()"
   ]
  },
  {
   "cell_type": "code",
   "execution_count": null,
   "id": "1c46e92a",
   "metadata": {},
   "outputs": [],
   "source": [
    "alt.Chart(by_age.reset_index()).mark_bar().encode(\n",
    "    x='Meldedatum',\n",
    "    y=alt.Y('AnzahlFall'),\n",
    "    color=\"Altersgruppe\",\n",
    ").interactive(True).properties(width=800)"
   ]
  },
  {
   "cell_type": "code",
   "execution_count": null,
   "id": "6826f25c",
   "metadata": {},
   "outputs": [],
   "source": [
    "alt.Chart(by_age.reset_index()).mark_bar().encode(\n",
    "    x='Meldedatum',\n",
    "    y=alt.Y('AnzahlTodesfall'),\n",
    "    color=\"Altersgruppe\",\n",
    ").interactive().properties(width=800)"
   ]
  }
 ],
 "metadata": {
  "kernelspec": {
   "display_name": "Python 3",
   "language": "python",
   "name": "python3"
  },
  "language_info": {
   "codemirror_mode": {
    "name": "ipython",
    "version": 3
   },
   "file_extension": ".py",
   "mimetype": "text/x-python",
   "name": "python",
   "nbconvert_exporter": "python",
   "pygments_lexer": "ipython3",
   "version": "3.8.6"
  }
 },
 "nbformat": 4,
 "nbformat_minor": 5
}
