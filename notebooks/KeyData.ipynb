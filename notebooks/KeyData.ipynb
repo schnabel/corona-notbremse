{
 "cells": [
  {
   "cell_type": "code",
   "execution_count": null,
   "id": "157cb6ad",
   "metadata": {},
   "outputs": [],
   "source": [
    "import pandas as pd"
   ]
  },
  {
   "cell_type": "code",
   "execution_count": null,
   "id": "cbebd68f",
   "metadata": {},
   "outputs": [],
   "source": [
    "df = pd.read_csv('https://npgeo-corona-npgeo-de.hub.arcgis.com/datasets/c2f3c3b935a242169c6bec82e1fa573e_0.csv')"
   ]
  },
  {
   "cell_type": "code",
   "execution_count": null,
   "id": "de76e012-ff41-44ab-a3ea-c0bd0d10df0b",
   "metadata": {},
   "outputs": [],
   "source": [
    "pd.read_csv('../Einwohnerzahlen.csv').merge(df, how=\"outer\")"
   ]
  }
 ],
 "metadata": {
  "kernelspec": {
   "display_name": "Python 3",
   "language": "python",
   "name": "python3"
  },
  "language_info": {
   "codemirror_mode": {
    "name": "ipython",
    "version": 3
   },
   "file_extension": ".py",
   "mimetype": "text/x-python",
   "name": "python",
   "nbconvert_exporter": "python",
   "pygments_lexer": "ipython3",
   "version": "3.8.6"
  }
 },
 "nbformat": 4,
 "nbformat_minor": 5
}
