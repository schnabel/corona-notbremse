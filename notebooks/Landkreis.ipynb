{
 "cells": [
  {
   "cell_type": "code",
   "execution_count": 4,
   "id": "ab82e65f",
   "metadata": {},
   "outputs": [],
   "source": [
    "import pandas as pd"
   ]
  },
  {
   "cell_type": "code",
   "execution_count": 7,
   "id": "6b09a737",
   "metadata": {},
   "outputs": [],
   "source": [
    "cols = [\"AdmUnitId\", \"EWZ\", \"GEN\", \"BEZ\"]\n",
    "df = pd.read_csv(\"https://npgeo-corona-npgeo-de.hub.arcgis.com/datasets/917fc37a709542548cc3be077a786c17_0.csv\", usecols=cols)"
   ]
  },
  {
   "cell_type": "code",
   "execution_count": 8,
   "id": "dba11a94-834d-44dc-a4b3-577d3077aefc",
   "metadata": {},
   "outputs": [
    {
     "data": {
      "text/html": [
       "<div>\n",
       "<style scoped>\n",
       "    .dataframe tbody tr th:only-of-type {\n",
       "        vertical-align: middle;\n",
       "    }\n",
       "\n",
       "    .dataframe tbody tr th {\n",
       "        vertical-align: top;\n",
       "    }\n",
       "\n",
       "    .dataframe thead th {\n",
       "        text-align: right;\n",
       "    }\n",
       "</style>\n",
       "<table border=\"1\" class=\"dataframe\">\n",
       "  <thead>\n",
       "    <tr style=\"text-align: right;\">\n",
       "      <th></th>\n",
       "      <th>GEN</th>\n",
       "      <th>BEZ</th>\n",
       "      <th>EWZ</th>\n",
       "      <th>AdmUnitId</th>\n",
       "    </tr>\n",
       "  </thead>\n",
       "  <tbody>\n",
       "    <tr>\n",
       "      <th>0</th>\n",
       "      <td>Flensburg</td>\n",
       "      <td>Kreisfreie Stadt</td>\n",
       "      <td>90164</td>\n",
       "      <td>1001</td>\n",
       "    </tr>\n",
       "    <tr>\n",
       "      <th>1</th>\n",
       "      <td>Kiel</td>\n",
       "      <td>Kreisfreie Stadt</td>\n",
       "      <td>246794</td>\n",
       "      <td>1002</td>\n",
       "    </tr>\n",
       "    <tr>\n",
       "      <th>2</th>\n",
       "      <td>Lübeck</td>\n",
       "      <td>Kreisfreie Stadt</td>\n",
       "      <td>216530</td>\n",
       "      <td>1003</td>\n",
       "    </tr>\n",
       "    <tr>\n",
       "      <th>3</th>\n",
       "      <td>Neumünster</td>\n",
       "      <td>Kreisfreie Stadt</td>\n",
       "      <td>80196</td>\n",
       "      <td>1004</td>\n",
       "    </tr>\n",
       "    <tr>\n",
       "      <th>4</th>\n",
       "      <td>Dithmarschen</td>\n",
       "      <td>Kreis</td>\n",
       "      <td>133193</td>\n",
       "      <td>1051</td>\n",
       "    </tr>\n",
       "  </tbody>\n",
       "</table>\n",
       "</div>"
      ],
      "text/plain": [
       "            GEN               BEZ     EWZ  AdmUnitId\n",
       "0     Flensburg  Kreisfreie Stadt   90164       1001\n",
       "1          Kiel  Kreisfreie Stadt  246794       1002\n",
       "2        Lübeck  Kreisfreie Stadt  216530       1003\n",
       "3    Neumünster  Kreisfreie Stadt   80196       1004\n",
       "4  Dithmarschen             Kreis  133193       1051"
      ]
     },
     "execution_count": 8,
     "metadata": {},
     "output_type": "execute_result"
    }
   ],
   "source": [
    "df.head()"
   ]
  },
  {
   "cell_type": "code",
   "execution_count": 14,
   "id": "3377948b-a4cf-436c-ab0d-bcf61888bd06",
   "metadata": {},
   "outputs": [],
   "source": [
    "df['Region_Prefix'] = \"LK \"\n",
    "df.loc[df['BEZ'] != 'Landkreis', 'Region_Prefix'] = \"SK \"\n",
    "df['Region'] = df['Region_Prefix'] + df['GEN']"
   ]
  },
  {
   "cell_type": "code",
   "execution_count": 15,
   "id": "dad35111",
   "metadata": {},
   "outputs": [],
   "source": [
    "df.to_csv('../Einwohnerzahlen.csv', index=False)"
   ]
  },
  {
   "cell_type": "code",
   "execution_count": null,
   "id": "e9bdbc23-d12a-4bb0-9172-3598eca16a8d",
   "metadata": {},
   "outputs": [],
   "source": []
  }
 ],
 "metadata": {
  "kernelspec": {
   "display_name": "Python 3",
   "language": "python",
   "name": "python3"
  },
  "language_info": {
   "codemirror_mode": {
    "name": "ipython",
    "version": 3
   },
   "file_extension": ".py",
   "mimetype": "text/x-python",
   "name": "python",
   "nbconvert_exporter": "python",
   "pygments_lexer": "ipython3",
   "version": "3.8.6"
  }
 },
 "nbformat": 4,
 "nbformat_minor": 5
}
